{
 "cells": [
  {
   "cell_type": "markdown",
   "source": [
    "# Importing the necessary libraries"
   ],
   "metadata": {}
  },
  {
   "cell_type": "code",
   "execution_count": 1,
   "source": [
    "# Basic Libraries\n",
    "import numpy as np\n",
    "import pandas as pd\n",
    "import seaborn as sb\n",
    "import nltk\n",
    "import matplotlib.pyplot as plt # we only need pyplot\n",
    "from nltk.corpus import stopwords\n",
    "from nltk.tokenize import sent_tokenize, word_tokenize\n",
    "from nltk.stem import WordNetLemmatizer \n",
    "from nltk.stem import PorterStemmer\n",
    "from nltk.stem import LancasterStemmer\n",
    "import random\n",
    "import re\n",
    "sb.set() # set the default Seaborn style for graphics"
   ],
   "outputs": [],
   "metadata": {}
  },
  {
   "cell_type": "code",
   "execution_count": 2,
   "source": [
    "import os\n",
    "from  nltk.parse  import CoreNLPParser\n",
    "java_path = \"C:\\\\Program Files\\\\Java\\\\jdk-14.0.2\\\\bin\\\\java.exe\"\n",
    "os.environ['JAVAHOME'] = java_path"
   ],
   "outputs": [],
   "metadata": {}
  },
  {
   "cell_type": "code",
   "execution_count": 3,
   "source": [
    "import scipy as sc\n",
    "from collections import Counter"
   ],
   "outputs": [],
   "metadata": {}
  },
  {
   "cell_type": "markdown",
   "source": [
    "# Importing the dataset [ Need to change the location]"
   ],
   "metadata": {}
  },
  {
   "cell_type": "code",
   "execution_count": 4,
   "source": [
    "dataset = pd.read_csv('reviewSelected100.csv')"
   ],
   "outputs": [],
   "metadata": {}
  },
  {
   "cell_type": "markdown",
   "source": [
    "# Removing Stop Words from the Tokenised sentence"
   ],
   "metadata": {}
  },
  {
   "cell_type": "code",
   "execution_count": 5,
   "source": [
    "def remove_stopwords(tokenized_sentence):\n",
    "    stop_words = set(stopwords.words('english'))\n",
    "    filtered_sentence = [w for w in tokenized_sentence if not w.lower() in stop_words]\n",
    "    filtered_sentence = []\n",
    "    for w in tokenized_sentence:\n",
    "        if w not in stop_words:\n",
    "            filtered_sentence.append(w)\n",
    "    return filtered_sentence"
   ],
   "outputs": [],
   "metadata": {}
  },
  {
   "cell_type": "markdown",
   "source": [
    "# Tokenisation of a sentence"
   ],
   "metadata": {}
  },
  {
   "cell_type": "code",
   "execution_count": 6,
   "source": [
    "def tokenisation(sentence):\n",
    "    word_tokens_with_stop = word_tokenize(sentence)\n",
    "    word_tokens=remove_stopwords(word_tokens_with_stop)\n",
    "    return word_tokens"
   ],
   "outputs": [],
   "metadata": {}
  },
  {
   "cell_type": "code",
   "execution_count": null,
   "source": [],
   "outputs": [],
   "metadata": {}
  },
  {
   "cell_type": "markdown",
   "source": [
    "# Lemmatization functions of sentence\n",
    "### 1. Wordnet lemmatizer using nltk package"
   ],
   "metadata": {}
  },
  {
   "cell_type": "code",
   "execution_count": 7,
   "source": [
    "def wordnet_lemmatizer(sentence):\n",
    "    tokenised_sentence=tokenisation(sentence)\n",
    "    \n",
    "    lemmatizer = WordNetLemmatizer()\n",
    "    lemmatized_sentence = [lemmatizer.lemmatize(w) for w in tokenised_sentence]\n",
    "    return(lemmatized_sentence)"
   ],
   "outputs": [],
   "metadata": {}
  },
  {
   "cell_type": "markdown",
   "source": [
    "### 2. Google Bert package"
   ],
   "metadata": {}
  },
  {
   "cell_type": "markdown",
   "source": [
    "# Stemming functions of sentence\n",
    "### 1. Porter Stemmer using nltk package"
   ],
   "metadata": {}
  },
  {
   "cell_type": "code",
   "execution_count": 8,
   "source": [
    "def Porter_stemming(sentence):\n",
    "    tokenised_sentence=tokenisation(sentence)\n",
    "    porter = PorterStemmer()\n",
    "    Porter_stemming_sentence = [porter.stem(w) for w in tokenised_sentence]\n",
    "    return(Porter_stemming_sentence)"
   ],
   "outputs": [],
   "metadata": {}
  },
  {
   "cell_type": "markdown",
   "source": [
    "### 2. Lancaster Stemmer using nltk package"
   ],
   "metadata": {}
  },
  {
   "cell_type": "code",
   "execution_count": 9,
   "source": [
    "def Lancaster_stemming(sentence):\n",
    "    tokenised_sentence=tokenisation(sentence)\n",
    "    lancaster=LancasterStemmer()\n",
    "    Lancaster_stemming_sentence = [lancaster.stem(w) for w in tokenised_sentence]\n",
    "    return(Lancaster_stemming_sentence)"
   ],
   "outputs": [],
   "metadata": {}
  },
  {
   "cell_type": "markdown",
   "source": [
    "### 3. Google Bert package"
   ],
   "metadata": {}
  },
  {
   "cell_type": "markdown",
   "source": [
    "# POS Tagging functions of sentence\n",
    "### 1. Using nltk package"
   ],
   "metadata": {}
  },
  {
   "cell_type": "code",
   "execution_count": 10,
   "source": [
    "def nltk_pos_tagging(sentence):\n",
    "    tokenised_sentence=tokenisation(sentence)\n",
    "    Pos_Tag_Sentence=nltk.pos_tag(tokenised_sentence)\n",
    "    return Pos_Tag_Sentence"
   ],
   "outputs": [],
   "metadata": {}
  },
  {
   "cell_type": "markdown",
   "source": [
    "### 2. Using google bert package"
   ],
   "metadata": {}
  },
  {
   "cell_type": "code",
   "execution_count": null,
   "source": [],
   "outputs": [],
   "metadata": {}
  },
  {
   "cell_type": "markdown",
   "source": [
    "# Other functions needed"
   ],
   "metadata": {}
  },
  {
   "cell_type": "code",
   "execution_count": 11,
   "source": [
    "def random_business_id(df):\n",
    "    n = random.randint(0,len(df.business_id)) \n",
    "    return df.business_id[n]\n"
   ],
   "outputs": [],
   "metadata": {}
  },
  {
   "cell_type": "code",
   "execution_count": 12,
   "source": [
    "def business_review_extracter(business_id_to_check):\n",
    "    reviews_text=[]\n",
    "    reviews_sentences=[]\n",
    "    reviews_tokens=[]\n",
    "    for i in range(0,len(dataset.business_id)):\n",
    "        if dataset.business_id[i]==business_id_to_check:\n",
    "            reviews_text.append(dataset.text[i])\n",
    "    for i in range(len(reviews_text)):\n",
    "        reviews_sentences.append(nltk.tokenize.sent_tokenize(reviews_text[i]))\n",
    "    for i in range(len(reviews_sentences)):\n",
    "        for j in range(len(reviews_sentences[i])):\n",
    "            reviews_tokens.append(tokenisation(reviews_sentences[i][j]))\n",
    "    return reviews_text,reviews_sentences,reviews_tokens\n",
    "#display word frequency distribution here"
   ],
   "outputs": [],
   "metadata": {}
  },
  {
   "cell_type": "code",
   "execution_count": 13,
   "source": [
    "def business_lancaster(reviews_sentences):\n",
    "    lancaster_stemmed=[]\n",
    "    for i in range(len(reviews_sentences)):\n",
    "        for j in range(len(reviews_sentences[i])):\n",
    "            lancaster_stemmed.append(Lancaster_stemming(reviews_sentences[i][j]))\n",
    "    return lancaster_stemmed"
   ],
   "outputs": [],
   "metadata": {}
  },
  {
   "cell_type": "code",
   "execution_count": 14,
   "source": [
    "def business_poter(reviews_sentences):\n",
    "    Porter_stemmed=[]\n",
    "    for i in range(len(reviews_sentences)):\n",
    "        for j in range(len(reviews_sentences[i])):\n",
    "            Porter_stemmed.append(Porter_stemming(reviews_sentences[i][j]))\n",
    "    return Porter_stemmed"
   ],
   "outputs": [],
   "metadata": {}
  },
  {
   "cell_type": "code",
   "execution_count": 15,
   "source": [
    "def business_wordnet(reviews_sentences):\n",
    "    wordnet_lemmatized=[]\n",
    "    for i in range(len(reviews_sentences)):\n",
    "        for j in range(len(reviews_sentences[i])):\n",
    "            wordnet_lemmatized.append(wordnet_lemmatizer(reviews_sentences[i][j]))\n",
    "    return wordnet_lemmatized"
   ],
   "outputs": [],
   "metadata": {}
  },
  {
   "cell_type": "markdown",
   "source": [
    "# 3.2 Dataset Analysis\n",
    "### a) Tokenisation, Stemming and lemmatization"
   ],
   "metadata": {}
  },
  {
   "cell_type": "code",
   "execution_count": 16,
   "source": [
    "B1=random_business_id(dataset)\n",
    "reviews_B1_text,reviews_B1_sentences,reviews_B1_tokens = business_review_extracter(B1)\n",
    "#display word frequency distribution here\n",
    "Porter_Stemming_B1=business_poter(reviews_B1_sentences)\n",
    "Lancaster_Stemming_B1=business_lancaster(reviews_B1_sentences)\n",
    "Wordnet_lematization_B1=business_wordnet(reviews_B1_sentences)\n",
    "#display word frequency distribution here\n",
    "B2=random_business_id(dataset)\n",
    "while(B1!=B2):\n",
    "    B2=random_business_id(dataset)\n",
    "reviews_B2_text,reviews_B2_sentences,reviews_B2_tokens = business_review_extracter(B2)\n",
    "#display word frequency distribution here\n",
    "Porter_Stemming_B1=business_poter(reviews_B2_sentences)\n",
    "Lancaster_Stemming_B1=business_lancaster(reviews_B2_sentences)\n",
    "Wordnet_lematization_B2=business_wordnet(reviews_B2_sentences)\n",
    "#display word frequency distribution here"
   ],
   "outputs": [],
   "metadata": {}
  },
  {
   "cell_type": "markdown",
   "source": [
    "### b) POS Tagging"
   ],
   "metadata": {}
  },
  {
   "cell_type": "code",
   "execution_count": 17,
   "source": [
    "n=random.sample(range(0, len(dataset.text)), 5)\n",
    "target=[]\n",
    "reviews_tokens=[]\n",
    "reviews_sentences=[]\n",
    "required_sentences=[]\n",
    "for i in range(0,5):\n",
    "    target.append(dataset.text[n[i]])\n",
    "    reviews_sentences.append(nltk.tokenize.sent_tokenize(target[i]))\n",
    "for i in range(0,5):\n",
    "    required_sentences.append(reviews_sentences[i][0])\n",
    "print(required_sentences)\n",
    "for i in range(0,len(required_sentences)):\n",
    "    required_sentences[i]=nltk_pos_tagging(required_sentences[i])\n",
    "print(required_sentences)"
   ],
   "outputs": [
    {
     "output_type": "stream",
     "name": "stdout",
     "text": [
      "['The Hashbrown Burrito not only satisfied my craving for a breakfast burrito, it exceeded my expectations!', 'We were immediately greeted and offered a free sample of the their bread.', 'Super simple place but amazing nonetheless.', 'Not much to say.', 'Had an amazing experience starting yesterday (5/31/17) and ending with a release today in the Surgical unit for a total hip replacement.']\n",
      "[[('The', 'DT'), ('Hashbrown', 'NNP'), ('Burrito', 'NNP'), ('satisfied', 'VBD'), ('craving', 'VBG'), ('breakfast', 'NN'), ('burrito', 'NN'), (',', ','), ('exceeded', 'VBD'), ('expectations', 'NNS'), ('!', '.')], [('We', 'PRP'), ('immediately', 'RB'), ('greeted', 'VBD'), ('offered', 'VBN'), ('free', 'JJ'), ('sample', 'NN'), ('bread', 'NN'), ('.', '.')], [('Super', 'NNP'), ('simple', 'JJ'), ('place', 'NN'), ('amazing', 'VBG'), ('nonetheless', 'RB'), ('.', '.')], [('Not', 'RB'), ('much', 'JJ'), ('say', 'VBP'), ('.', '.')], [('Had', 'NNP'), ('amazing', 'JJ'), ('experience', 'NN'), ('starting', 'VBG'), ('yesterday', 'NN'), ('(', '('), ('5/31/17', 'CD'), (')', ')'), ('ending', 'VBG'), ('release', 'NN'), ('today', 'NN'), ('Surgical', 'NNP'), ('unit', 'NN'), ('total', 'JJ'), ('hip', 'NN'), ('replacement', 'NN'), ('.', '.')]]\n"
     ]
    }
   ],
   "metadata": {}
  },
  {
   "cell_type": "markdown",
   "source": [
    "# 3.3 Indicative Adjective Phrases\n",
    "\n",
    "## Trying out Regex based Chunking for 3.3\n"
   ],
   "metadata": {}
  },
  {
   "cell_type": "code",
   "execution_count": null,
   "source": [
    "def find_adjective_phrases(pos_sentence):\n",
    "    adjective_phrases=[]\n",
    "    chunk_grammer=\"AP: {<JJ.*>*}\" \n",
    "    chunk_parser = nltk.RegexpParser(chunk_grammer)\n",
    "    tree=chunk_parser.parse(pos_sentence)\n",
    "    for subtree in tree.subtrees():\n",
    "        if subtree.label()==\"AP\":\n",
    "            adjective_phrases.append(subtree)\n",
    "            \n",
    "    return adjective_phrases"
   ],
   "outputs": [],
   "metadata": {}
  },
  {
   "cell_type": "code",
   "execution_count": null,
   "source": [
    "sentence=\"the little yellow dog barked at the cat\"\n",
    "pos_sentence=nltk_pos_tagging(sentence)\n",
    "adjective_phrases=find_adjective_phrases(pos_sentence)\n",
    "print(adjective_phrases)"
   ],
   "outputs": [],
   "metadata": {}
  },
  {
   "cell_type": "markdown",
   "source": [
    "## Trying out Training tagger based Chunker for 3.3"
   ],
   "metadata": {}
  },
  {
   "cell_type": "code",
   "execution_count": null,
   "source": [
    "def conll_tag_chunks(chunk_data):\n",
    "    #using the tree2conlltags but this only returns IOB tags for NP, PP and VP\n",
    "    tagged_data = [tree2conlltags(tree) for \n",
    "                    tree in chunk_data]\n",
    "      \n",
    "    return [[(t, c) for (w, t, c) in sent] \n",
    "            for sent in tagged_data]"
   ],
   "outputs": [],
   "metadata": {}
  },
  {
   "cell_type": "code",
   "execution_count": null,
   "source": [
    "def combined_tagger(train_data, taggers, backoff=None):\n",
    "    for tagger in taggers:\n",
    "        backoff = tagger(train_data, backoff=backoff)\n",
    "    return backoff"
   ],
   "outputs": [],
   "metadata": {}
  },
  {
   "cell_type": "code",
   "execution_count": null,
   "source": [
    "from nltk.chunk import ChunkParserI\n",
    "from nltk.chunk.util import tree2conlltags, conlltags2tree\n",
    "from nltk.tag import UnigramTagger, BigramTagger\n",
    "  \n",
    "\n",
    "      \n",
    "class TagChunker(ChunkParserI):\n",
    "      \n",
    "    def __init__(self, train_chunks, \n",
    "                 tagger_classes =[UnigramTagger, BigramTagger]):\n",
    "          \n",
    "        train_data = conll_tag_chunks(train_chunks)\n",
    "        self.tagger = combined_tagger(train_data,tagger_classes)\n",
    "          \n",
    "    def parse(self, tagged_sent):\n",
    "        if not tagged_sent: \n",
    "            return None\n",
    "          \n",
    "        (words, tags) = zip(*tagged_sent)\n",
    "        chunks = self.tagger.tag(tags)\n",
    "        wtc = zip(words, chunks)\n",
    "          \n",
    "        return conlltags2tree([(w, t, c) for (w, (t, c)) in wtc])"
   ],
   "outputs": [],
   "metadata": {}
  },
  {
   "cell_type": "code",
   "execution_count": null,
   "source": [
    "# loading libraries\n",
    "from nltk.corpus import treebank_chunk\n",
    "  \n",
    "# data from treebank_chunk corpus\n",
    "train_data = treebank_chunk.chunked_sents()[:3000]\n",
    "test_data = treebank_chunk.chunked_sents()[3000:]\n",
    "  \n",
    "# Initailazing \n",
    "chunker = TagChunker(train_data)"
   ],
   "outputs": [],
   "metadata": {}
  },
  {
   "cell_type": "markdown",
   "source": [
    "## Trying out dependency parsing for 3.3"
   ],
   "metadata": {}
  },
  {
   "cell_type": "code",
   "execution_count": null,
   "source": [
    "from nltk.parse.stanford import StanfordDependencyParser"
   ],
   "outputs": [],
   "metadata": {}
  },
  {
   "cell_type": "code",
   "execution_count": null,
   "source": [
    "import os\n",
    "java_path = \"C:\\\\Program Files\\\\Java\\\\jdk-14.0.2\\\\bin\\\\java.exe\"\n",
    "os.environ['JAVAHOME'] = java_path"
   ],
   "outputs": [],
   "metadata": {}
  },
  {
   "cell_type": "code",
   "execution_count": null,
   "source": [
    "# Path to CoreNLP jar unzipped\n",
    "jar_path = 'C:\\\\Users\\\\Aratrika\\\\Desktop\\\\NTU COURSES_PROJECTS_HACKS\\\\NTU YEAR 3, SEM 1\\\\NLP\\\\Assignment 1\\\\stanford-corenlp-4.2.2\\\\stanford-corenlp-4.2.2\\\\stanford-corenlp-4.2.2.jar'\n",
    "\n",
    "# Path to CoreNLP model jar\n",
    "models_jar_path = 'C:\\\\Users\\\\Aratrika\\\\Desktop\\\\NTU COURSES_PROJECTS_HACKS\\\\NTU YEAR 3, SEM 1\\\\NLP\\\\Assignment 1\\\\stanford-corenlp-4.2.2-models-english.jar'"
   ],
   "outputs": [],
   "metadata": {}
  },
  {
   "cell_type": "code",
   "execution_count": null,
   "source": [
    "sentence='The movie was not too terrible'"
   ],
   "outputs": [],
   "metadata": {}
  },
  {
   "cell_type": "code",
   "execution_count": null,
   "source": [
    "# Initialize StanfordDependency Parser from the path\n",
    "parser = StanfordDependencyParser(path_to_jar = jar_path, path_to_models_jar = models_jar_path)\n",
    "\n",
    "# Parse the sentence\n",
    "result = parser.raw_parse(sentence)\n",
    "dependency = result.__next__()\n",
    "#print(dependency)\n",
    "dependency_tree=dependency.tree()\n",
    "print(dependency_tree)\n",
    "dependency_tree.pretty_print()\n",
    "\n",
    "# print (\"{:<15} | {:<10} | {:<10} | {:<15} | {:<10}\".format('Head', 'Head POS','Relation','Dependent', 'Dependent POS'))\n",
    "# print (\"-\" * 75)"
   ],
   "outputs": [],
   "metadata": {}
  },
  {
   "cell_type": "markdown",
   "source": [
    "## Trying out syntactic parsing for 3.3"
   ],
   "metadata": {}
  },
  {
   "cell_type": "code",
   "execution_count": null,
   "source": [
    "# from nltk.parse.corenlp import CoreNLPServer\n",
    "\n",
    "# STANFORD = os.path.join(\"models\", \"stanford-corenlp-full-2018-02-27\")\n",
    "\n",
    "# server = CoreNLPServer(\n",
    "#     'C:\\\\Users\\\\Aratrika\\\\Desktop\\\\NTU COURSES_PROJECTS_HACKS\\\\NTU YEAR 3, SEM 1\\\\NLP\\\\Assignment 1\\\\stanford-corenlp-4.2.2\\\\stanford-corenlp-4.2.2\\\\stanford-corenlp-4.2.2.jar'\n",
    "# ,'C:\\\\Users\\\\Aratrika\\\\Desktop\\\\NTU COURSES_PROJECTS_HACKS\\\\NTU YEAR 3, SEM 1\\\\NLP\\\\Assignment 1\\\\stanford-corenlp-4.2.2-models-english.jar',    \n",
    "#  )"
   ],
   "outputs": [],
   "metadata": {}
  },
  {
   "cell_type": "code",
   "execution_count": null,
   "source": [
    "#java -mx4g -cp \"*\" edu.stanford.nlp.pipeline.StanfordCoreNLPServer\n",
    "#use the above command inside the unzipped file, inorder to start the server\n"
   ],
   "outputs": [],
   "metadata": {}
  },
  {
   "cell_type": "code",
   "execution_count": null,
   "source": [
    "#for each business id, first get all the reviews, then run through syntactic parsing to create a list of all ADJP for each business id"
   ],
   "outputs": [],
   "metadata": {}
  },
  {
   "cell_type": "code",
   "execution_count": 18,
   "source": [
    "#given a review sentence, returns all the adjective phrases\n",
    "def find_adjective_phrases(sentence):\n",
    "    def dfs(tree):\n",
    "        adjp=tree.leaves()\n",
    "        adjp=' '.join(word for word in adjp)\n",
    "        return adjp\n",
    "    adjective_phrases=[]\n",
    "    parser = CoreNLPParser(url='http://localhost:9000')\n",
    "    parse = next(parser.raw_parse(sentence))\n",
    "    for adjective_phrase_tree in parse.subtrees(filter=lambda x: x.label() == 'ADJP'):\n",
    "        #print(adjective_phrase_tree)\n",
    "        adjective_phrase=dfs(adjective_phrase_tree)\n",
    "        adjective_phrases.append(adjective_phrase)\n",
    "    return adjective_phrases"
   ],
   "outputs": [],
   "metadata": {}
  },
  {
   "cell_type": "code",
   "execution_count": 19,
   "source": [
    "sentences=['The movie was too terrible. I felt really bad!!','I had a really great time','Just had an amazing facial with Jane! She\\'s knowledgable, excited about what she does, and let\\'s you relax or talk as much as you want. I\\'m a picky girl and I would pick her over the many facialists I\\'ve been to all over the world. She doesn\\'t push product but, listens enough to you needs to suggest smart additions to your lineup. Will definitely be back! Thanks Jane! See you in 4-6 weeks. Joye']\n",
    "for i in sentences:\n",
    "    adjp=find_adjective_phrases(i)\n",
    "    print(adjp)"
   ],
   "outputs": [
    {
     "output_type": "stream",
     "name": "stdout",
     "text": [
      "['too terrible', 'really bad']\n",
      "['really great']\n",
      "[\"facial with Jane ! She 's knowledgable , excited about what she does , and let 's you relax or talk as much as you want . I 'm a picky girl and I would pick her over the many facialists I 've been to all over the world . She does n't push product but , listens enough to you needs to suggest smart additions to your lineup . Will definitely be back !\", 'knowledgable', \"excited about what she does , and let 's you relax or talk as much as you want . I 'm a picky girl and I would pick her over the many facialists I 've been to all over the world . She does n't push product but , listens enough to you\", 'much']\n"
     ]
    }
   ],
   "metadata": {}
  },
  {
   "cell_type": "code",
   "execution_count": 20,
   "source": [
    "def adjective_phrases_per_business(business_id):\n",
    "    ans=business_review_extracter(business_id)\n",
    "    review_sentences=ans[1]\n",
    "    #print(review_sentences[-1])\n",
    "    business_adjective_phrases=[]\n",
    "    for sentences in review_sentences:\n",
    "        for sentence in sentences:\n",
    "            sentence=sentence.lower()\n",
    "            sentence = sentence.replace(\"%\", \" percent\");\n",
    "            print(sentence)\n",
    "            adjp=find_adjective_phrases(sentence)\n",
    "            business_adjective_phrases+=(adjp)\n",
    "\n",
    "    print(business_adjective_phrases)\n",
    "    return business_adjective_phrases"
   ],
   "outputs": [],
   "metadata": {}
  },
  {
   "cell_type": "code",
   "execution_count": null,
   "source": [
    "dataset = pd.read_csv('reviewSelected100.csv')\n",
    "business_ids=dataset['business_id'].tolist()\n",
    "business_id_set=set(business_ids)\n",
    "for business_id in business_id_set:\n",
    "    business_adjp=adjective_phrases_per_business(business_id)"
   ],
   "outputs": [],
   "metadata": {}
  },
  {
   "cell_type": "code",
   "execution_count": 47,
   "source": [
    "def extract_adjective_phrases(dataset,business_b1_id):\n",
    "    business_ids=dataset['business_id'].tolist()\n",
    "    business_id_set=set(business_ids)\n",
    "    business_adjps=[]\n",
    "    business_b1=[]\n",
    "    for business_id in business_id_set:\n",
    "        business_adjp=adjective_phrases_per_business(business_id)\n",
    "        if business_id==business_b1_id:\n",
    "            business_b1=business_adjp\n",
    "        else:\n",
    "            business_adjps.append(business_adjp)\n",
    "    return business_adjps,business_b1\n",
    "    "
   ],
   "outputs": [],
   "metadata": {}
  },
  {
   "cell_type": "code",
   "execution_count": null,
   "source": [
    "#calling the extract_adjective_phrases function\n",
    "dataset = pd.read_csv('reviewSelected100.csv')\n",
    "business_b1_id= random_business_id(dataset)\n",
    "business_adjps,business_b1=extract_adjective_phrases(dataset,business_b1_id)"
   ],
   "outputs": [
    {
     "output_type": "stream",
     "name": "stdout",
     "text": [
      "this place is great.\n",
      "the sangria is realllly tasty, and the tapas are wonderful.\n",
      "it's located right across the street from the wynn, and at the end of the fashion show mall.\n",
      "not a usual place for the typical vegas visitor, but it's not hard to find.\n",
      "the service here was great as well.\n",
      "would definitely come back here for some more tapas, a switch from the usual buffets and casino food courts :)\n",
      "the food is excellent, but the plates are incredible small!\n",
      "it was a challenge to eat off of a plate that was a quarter of the size of the utensils, but when good food is around i guess you can do anything.\n",
      "i have been to both the chicago location and now the vegas location and both have excellent food and sangria!\n",
      "i can't remember everything we ordered (uhh, we were in vegas!\n",
      "), but i know i enjoyed the stuffed mushrooms and the beef tenderloin and blue cheese.\n",
      "i also know i was very excited about the $1.99 dessert menu (the banana dessert and the chocolate truffle were good!).\n",
      "if you like tapas, this is a good place to go for a reasonably priced meal when you're in vegas!\n",
      "if you're weary of the high end expense account restaurants on the strip and just crave something that's fun and flavorful, this is a recommended restaurant.\n",
      "shop first in the mall - inside are fun stores like zara and diesel - and then enjoy the tapas to your stomach's content.\n",
      "this was our second trip in two years, and the experience both times was good enough to keep us coming back.\n",
      "recommended if you're looking for something under $50 per person on the strip, including drinks.\n",
      "conveniently located across the street from the wynn resort in the fashion mall, this joint is hands down the number one lunch spot for me.\n",
      "after a heavy night drinking and partying, what's better than to fill up again with a cold pitcher of black raspberry sangria and small plate-size tapas to re-energize yourself for another round at the pool or craps table.\n",
      "the menu is quite extensive and divided into cold and hot dishes.\n",
      "i recommend the following:\n",
      "\n",
      "hot dishes:\n",
      "-chicken and chorizo sausage skewers (this is the bomb)\n",
      "-squid a la plancha with olive oil and garlic (dip your table bread in this oil as well)\n",
      "-roasted dates wrapped in bacon (this is a must have)\n",
      "-fried padron peppers and course salt\n",
      "\n",
      "cold dishes:\n",
      "-serrano ham, salchichon, chorizo & manchego cheese\n",
      "-roast eggplant salad with goat cheese\n",
      "-house marinated olives\n",
      "\n",
      "dessert:\n",
      "-you have to try the almond and banana ice cream desserts....and i don't care how full you are cuz they cost almost nothing and are damn good!\n",
      "i came here one night to have the paella and thought it was good but nothing to get excited about.\n",
      "i recommend you order the tapas items i suggested above instead if it's your first time.\n",
      "the website includes the full menu if you want to explore for yourself:\n",
      "http://www.cafebabareeba.com/vegas/\n",
      "after really enjoying firefly, my friends and i decided to try cafe ba-ba-reeba.\n",
      "we were pretty disappointed... smaller portions, not as good, and higher priced than firefly.\n",
      "and it was pretty dead in there, too.\n",
      "thanks, we'll stick to firefly.\n",
      "excellent atmosphere and ambiance.\n",
      "the tapas were good, but of course, you need to order multiple plates to become full, except for the paella.\n",
      "the paella was very good as well.\n",
      "the service was also wonderful.\n",
      "i have gone to this location several times, w/ both friends and dates.\n",
      "i remember coming here during happy hour, and boy did those sangria's sneak up on me =)\n",
      "a great tapas place at the fashion show mall.\n",
      "original location is in chicago, the vegas one has views of the wynn.\n",
      "tapas are decent, but my opnion is skewed by a recent visit to a.o.c.\n",
      "in la.\n",
      "everything pales in comparison.\n",
      "ba-ba-reeba *does* have some great sangrias, especially the passionfruit sangria.\n",
      "the artisan cheese plate was a little boring, but the jamon serrano comes with an assortment of other meats and some tasty tomato bread.\n",
      "if you want something hot and comforting, the goat cheese baked in tomato sauce is delicous and comes with little pesto-topped toasts.\n",
      "although it was my first gazpacho experience, the ba-ba-reeba bowl was so flavorful i'm hooked.\n",
      "cold soup rocks!\n",
      "by far the best offering was the mini desserts menu, featuring small plates of yummy bites, all for $2.\n",
      "the coconut bread pudding is divine, and little ice cream shots with drizzles of matching liqueurs go down sweet and smooth.\n",
      "had some good times and great happy hours here.\n",
      "sad to see it go.\n",
      "this place has been closed since february 15th.\n",
      "http://www.vegaschatter.com/story/2010/2/4/16133/96259/vegas-travel/cafe_ba_ba_reeba_to_close_on_february_15\n",
      "over time this restaurant has changed to de-emphasize tapas.\n",
      "the menu is now more focused on paella.\n",
      "most of the tapas i've had here were quite good.\n",
      "with the smaller number of tapas selections, there is little that is exotic or challenging.\n",
      "it was pretty much impossible to have a tapas dinner my last visit.\n",
      "the paella is not as good as the tapas.\n",
      "the new menu is disappointing.\n",
      "their tapas were good, kinda reminded me of firefly, but it's not that noisy here.\n",
      "the sangria was really good, service was so, so.\n",
      "please come back!!!\n",
      "this is by far the most tragic thing that's happened to vegas!\n",
      "this place is the best tapas place with the best white peach sangria ever!\n",
      "my hubby and i used to go there every time we go to vegas (which is a lot).\n",
      "i mean, there were times when we craved babareeba so much that we took a trip to vegas because of it!\n",
      "we would order pitchers of the white peach sangria and i would get tipsy and then go shopping at the fashion show mall!\n",
      "how much better can life get?\n",
      ":p\n",
      "\n",
      "anyway, please please reopen it or open one in la!!\n",
      "the new restaurant in place of it sucks!\n",
      "fantastic tapas.\n",
      "we ate some cold and some hot dishes and they were fantastic.\n",
      "good sangrias, too.\n",
      "it's ok.\n",
      "i could be snob-bish & state that it's not even close to food in spain.\n",
      "but with the economy & airfare being cheap it's definitely better to go to barcelona, madrid, malaga, or cadiz etc & enjoy the food & beauty of a dfferent world.\n",
      "but i digress.\n",
      "if you want a cheap version of spanish ham, the serrano ham & caramelized pineapple will do; other best items were the short rib-stuffed piquillo pepper and the mushroom empanada.\n",
      "best spanish restaurant in america (that i've found thus far).\n",
      "seriously everything is to die for and the sangria is amazing.\n",
      "lobster paella, garlic shrimp, dates wrapped in bacon...\n",
      "everything!!!\n",
      "seriously i love everything about this place... the ambiance, the music, service, the food and the wine list!\n",
      "another great plus: paella cooking classes\n",
      "about once a month on saturdays they have this class where they teach you how to make paella and various tapas.\n",
      "you get to try everything they make for you and you get to take a cookbook home with all the recipes.\n",
      "the class is at 10am... it's hard not to go hungover from the debaucheries of the night before in vegas, but it's well worth it!\n",
      "!\n",
      "mediocre tapas.\n",
      "also, the inside of the restaurant was uncomfortably hot on a scorching day and when i complained to the waitress, she told me that's how they keep it.\n",
      "we ended up eating outside.\n",
      "servive was slow.\n",
      "a potato dish with no fish tasted fishy.\n",
      "it seems that las vegas still only has one tapas place -- firefly.\n",
      "i have to come to vegas a lot for business and i recently found this gem.\n",
      "the menu includes a wide range of items.\n",
      "everything that i have tasted i have enjoyed.\n",
      "the most recent time i visited i had the lobster paella, which was delicious, filling, and cheap!\n",
      "i also really enjoy the gaspacho here.\n",
      "the atmosphere is very relaxed and the service is attentive.\n",
      "there are several vegetarian friendly options as well!\n",
      "it was the best tapas in vegas and for the price, would probably still be(even with the addition of serrano and jaleo).\n",
      "i miss this place!\n",
      "sometimes when i think i can't go on with the heat in las vegas, i go to the mall.\n",
      "i went yesterday with my american express and the air conditioning.\n",
      "it was nice to get out of the heat and into some retail therapy.\n",
      "cafe ba-ba reeba is a wonderful tapas place at the mall.\n",
      "yes, our mall is better than yours.\n",
      "actually i hate malls, but i really can't be that mad at this one because there is so much fun stuff there!\n"
     ]
    },
    {
     "output_type": "stream",
     "name": "stdout",
     "text": [
      "ba ba reeba is more expensive than other tapas places in town, due to its location, but i always seem to eat vegetarian here and so its a little less expensive.\n",
      "if and when it is under a 100 degrees outside,  i like the patio because of the pretty view to wynn, but inside is really pretty also.\n",
      "part of the lettuce entertain you group of restaurants, cafe ba ba reeba started out in chicago, then opened a branch in las vegas.\n",
      "it specializes in tapas.\n",
      "originally intended as bar snacks, the term now refers to small portions of food (at least in the united states).\n",
      "choose a few and you have a meal; choose a bunch and you have a meal for a group of friends.\n",
      "in addition to tapas, the menu offers paella and a few other items, but tapas are the stars.\n",
      "there are more than 50 choices, plus another dozen desserts.\n",
      "cold tapas include serrano ham, olives and chicken salad; hot tapas include octopus, empanadas and roast dates with bacon.\n",
      "the inside dining areas are dark: dark stained wood flooring, dark wood tables, moderate lighting.\n",
      "loud guitar music plays; a flamenco version of \"california dreamin'\" was one of the more unusual selections.\n",
      "the outside area, facing the strip, seemed much more inviting, but it was too hot outside for me.\n",
      "service was prompt; i ordered tapas one at a time, and they arrived pretty quickly.\n",
      "at cafe ba ba reeba, tapas have been supersized.\n",
      "a typical dish could serve as a small appetizer for four people, or as an hors d'oeuvre for even more people.\n",
      "i was hard pressed to finish just three plates.\n",
      "serrano ham, salchichon, chorizo & manchego cheese also included triangles of toasted bread with chopped tomato on top.\n",
      "both the cheese and meats were thinly sliced, and very strongly flavored.\n",
      "a winner.\n",
      "it wasn't finger food, definitely requiring a knife and fork, but was big enough that it would best be split several ways.\n",
      "roast dates with bacon and apple vinaigrette was an interesting dish.\n",
      "small dates (or perhaps halves of large dates) were wrapped in bacon, then grilled until the bacon was crispy and the dates were very chewy.\n",
      "a small amount of vinaigrette was poured on top.\n",
      "it was an unusual combination of sweet, salty, sour and fatty tastes.\n",
      "grilled squid in olive oil and garlic consisted of large pieces of squid (both body and tentacles) sauted in olive oil.\n",
      "barely cooked through, the squid was still tender.\n",
      "it was a little oily, but i liked it.\n",
      "the food was ok, but as a solo diner i didn't really enjoy myself.\n",
      "the supposedly tapa sized portions are actually quite large, and not conducive to ordering many dishes if one is dining alone.\n",
      "i think it would be more fun with a group, at one of the outdoor tables.\n",
      "i love the sangria and the paella!\n",
      "they have some great tapas!\n",
      "fun with friends!\n",
      "i love the environment and the food is very yummy!\n",
      "its a great place for dinner!\n",
      "this is one of my favorite places to go in las vegas.\n",
      "it's got easy access, in spite of being on the strip.\n",
      "they have awesome sangria, good food - and a handful of vegetarian and vegan options.\n",
      "it's moderately priced (good for being on the strip).\n",
      "i love their spicy potatoes!\n",
      "another tapas experience in las vegas.\n",
      "located right on the strip, take a seat outside so you can enjoy the constant changing screens of the wynn hotel and, of course, people watch.\n",
      "late lunch and we order the traditional gazpacho soup (gazpacho tradicional); the beef tenderloin toro brocheta (parsley garlic oil brocheta de solomillo); and the white anchovies, avocado & peppers (boquerones con aguacate).\n",
      "we attempted to order the fried green peppers & coarse salt (pimientos fritos), but they were out already.\n",
      "the gazpacho was light and cooling.\n",
      "when brought to your table, you can choose if you want a few toppings added to it or not.\n",
      "the anchovies were very tasty.\n",
      "my only complaint was that there wasn't enough anchovies and too much of the avocado stuff instead.\n",
      "the toro brocheta was especially enhanced by the tasty green sauce that accompanied it.\n",
      "(my dining companion was surprised that they didn't ask us how we wanted our beef.)\n",
      "without the sauce, it would be a bit dry.\n",
      "the sauce really gave it a punch.\n",
      "(i requested more so i could dunk my bread in it.)\n",
      "dessert - we ordered the banana (caramelized banana, vanilla ice cream aka platano al caramelo); the strawberries (sour cream foam aka fresa con espuma de crema); and the chocolate (white chocolate soup aka sopa de chocolate blanco).\n",
      "with these desserts only be $1.99, you don't feel bad ordering a bunch of them.\n",
      "then again, they are super small.\n",
      "big enough to share with one other person only if you order more than one.\n",
      "the banana was nicely caramelized with caramel sauce and cooling ice cream.\n",
      "the strawberries were a bit too tart for me, and tasted much better when mixed with the chocolate dish.\n",
      "i think the idea of a white chocolate soup is divine.\n",
      "with little rice crispies on the top and tiny pieces of pineapple on the bottom, it's a refreshing dessert.\n",
      "(was there a hint of coconut in it?)\n",
      "overall, with my limited dining experience at cafe ba ba reeba, i would give it only three stars.\n",
      "it was a decent place for tapas, but not extraordinary.\n",
      "portion sizes are on the smaller end and i would hate to think of trying to share my sardines or gazpacho dish with more than one dining companion.\n",
      "i did particularly enjoy just sitting out front and enjoying my leisurely lunch on the strip.\n",
      "having such late lunches, there are no crowds to deal with and you can enjoy yourself so much more.\n",
      "as always, having fabulous company always makes it that much better.\n",
      "update!\n",
      "they offer a weekday (m-f) happy hour from 4 pm to 7 pm.\n",
      "$3 tapas at the bar and half off sangria!\n",
      "was surprised to see that cafe ba ba reeba had a lower average rating than firefly on paradise.\n",
      "we went to firefly before and were really underwhelmed by the food there.\n",
      "in fact, every dish we tried (and we tried plenty) was on the average or under average side.\n",
      "we're always on the hunt for tapas and hubby was adamant about not going to firefly.\n",
      "i had bookmarked re tapas, but hubby wanted to try ba ba reeba while we were at the mall so we thought we'd be smarter this time and order only a small selection in case it wasn't all that great either.\n",
      "the restaurant shares its space with stripburger -- very strange because it's so damn confusing.\n",
      "i wanted to sit by some natural light for the purpose of taking photos but wherever i pointed out was not part of ba ba reeba.\n",
      "the menu wasn't very big so it was quite easy to decide.\n",
      "the young man wanted a pizza and there were only 3 or 4 to choose from so we went for the chorizo.\n",
      "i got some garlic shrimp, sea scallops and padron peppers as well.\n",
      "sangria is not bad here -- it's not sickly sweet and had a nice balance of the wine to fruit/juice.\n",
      "very refreshing accompaniment to the meal.\n",
      "padron peppers were grilled well with a sprinkling of sea salt to give it flavor.\n",
      "seared sea scallops were fresh and juicy, well prepared, but the couscous and sauce was what brought this dish down.\n",
      "the flavors were underseasoned and did nothing to enhance the scallops.\n",
      "my favorite were the garlic shrimps.\n",
      "the shrimps were plump and extremely fresh and had a hearty helping of garlic in the dish.\n",
      "the olive oil was infused so strongly with the garlic we all used the bread to soak it up and wiped the dish clean.\n",
      "i wouldn't ordinarily order pizza at a tapas place but the one here wasn't bad as far as pizzas are concerned.\n",
      "the crust was very thin and the toppings of chorizo, cheese and cherry tomatoes were balanced correctly -- not too much and not too little.\n",
      "all in all, i'd have to say, i thoroughly enjoyed this meal.\n",
      "i'll even go as far to say that the garlic shrimps were better than at my favorite tapas place in sf -- zarzuela.\n",
      "yeah, i said it.\n",
      "it's better!\n",
      "we ended up getting an extra order of the shrimp since none of us felt we had enough.\n",
      "the meal wasn't cheap -- a pizza, 4 tapas and 2 glasses of sangria came to almost $80 with tip included.\n",
      "still, for a highly satisfying meal, i don't really care if it was on the high side.\n",
      "this was def the best choice to in that mall plaza section on las vegas blvd.\n"
     ]
    },
    {
     "output_type": "stream",
     "name": "stdout",
     "text": [
      "i've only had tapas a few times and i'm not completely drawn to it because it sounds like i'll order a bunch of things and still not get full.\n",
      "wrong.\n",
      "well we ordered a lot because we were afraid of not getting full.\n",
      "walked over here sunday afternoon and there was no wait.\n",
      "awesome.\n",
      "we got bread and some olive oil right away.\n",
      "the olive oil was kinda bitter but i don't think its my thing.\n",
      "this is what we ordered: \n",
      "- mahi mahi tapa (which was the special of the day)  very juicy with yummy veggies with it\n",
      "- steamed mussels (my bf said it was good) \n",
      "- beef skewers (i like this one because of the carmelized onions and the spicy horseradish) \n",
      "- salmon with veggies\n",
      "- seafood paella (soo yummy but remember it takes about 30 minutes to order) \n",
      "- black raspberry sangria half pitcher 16 bucks (this was my favorite part because of the fresh fruit!\n",
      "you have to order the sangria!!\n",
      "i really enjoyed the food, had lots of great decorations in the restaurant, and played spanish themed music in the background which was awesome.\n"
     ]
    }
   ],
   "metadata": {}
  },
  {
   "cell_type": "code",
   "execution_count": null,
   "source": [
    "business_adjp=adjective_phrases_per_business('e-YnECeZNt8ngm0tu4X9mQ')\n",
    "print(business_adjp)"
   ],
   "outputs": [],
   "metadata": {}
  },
  {
   "cell_type": "code",
   "execution_count": 46,
   "source": [],
   "outputs": [
    {
     "output_type": "stream",
     "name": "stdout",
     "text": [
      "[['great', 'realllly tasty', 'wonderful', 'hard to find', 'great', 'usual', 'excellent', 'incredible small', 'very excited about the $ 1.99 dessert menu -LRB- the banana dessert and the chocolate truffle were good ! -RRB-', 'very excited', 'good', 'reasonably priced', 'weary of the high end expense account restaurants', 'fun and flavorful', 'good enough to keep us coming back', 'better than to fill up again with a cold pitcher of black raspberry sangria and small plate - size tapas to re-energize yourself for another round at the pool or craps table', 'better', 'quite extensive', 'cold and hot', 'good', 'excited about', 'pretty disappointed', 'as good', 'pretty dead', 'excellent', 'good', 'full', 'very good', 'wonderful', 'decent', 'a little boring', 'hot and comforting', 'baked in tomato', 'delicous', 'little pesto - topped', \"so flavorful i 'm hooked\", 'hooked', 'divine', 'down sweet and smooth', 'great happy', 'sad to see it go .', 'more focused on paella', 'more focused', 'quite good', 'little', 'exotic or challenging', 'pretty much impossible to have a tapas dinner my last visit', 'as good as the tapas', 'disappointing', 'good', 'noisy', 'really good', 'most tragic', 'tipsy', 'fantastic', 'ok', 'cheap', 'definitely better', 'other best', 'short rib - stuffed', 'amazing', 'hungover', 'well worth', 'uncomfortably hot on a scorching day', 'slow', 'fishy', 'most recent', 'delicious', 'cheap', 'very relaxed', 'attentive', 'american express', 'nice to get out of the heat and into some retail therapy', 'better than yours', 'better', 'mad', 'so much', 'more expensive than other tapas places in town', 'more expensive', 'a little less expensive', 'dark', 'much more', 'too hot outside for me', 'prompt', 'even more', 'thinly sliced , and very strongly flavored', 'thinly sliced', 'very strongly flavored', 'big enough that it would best be split several ways', 'big enough', 'crispy', 'very chewy', 'sweet , salty , sour and fatty', 'tender', 'a little oily', 'ok', 'supposedly tapa sized', 'quite large', 'not conducive to ordering many dishes if one is dining alone', 'very yummy', 'good food - and a handful', 'vegetarian and vegan', 'moderately priced', 'good for being on the strip', 'spicy', 'light', 'very tasty', 'too much', 'surprised', 'a bit dry', 'bad', 'super small', 'big', 'enough to share with one other person only if you order more than one', 'a bit too tart', 'much better', 'divine', 'top and tiny', 'refreshing', 'not extraordinary', 'much better', 'surprised to see that cafe ba ba reeba had a lower average rating than firefly on paradise', 'adamant about not going to firefly', 'great', 'very strange', 'so damn confusing', 'very big', 'quite easy to decide', 'bad', 'sickly sweet', 'very refreshing', 'fresh and juicy', 'well prepared', 'plump and extremely fresh', 'plump', 'extremely fresh', 'clean', 'bad', 'concerned', 'very thin', 'too much', 'too little', 'better than at my favorite tapas place in sf -- zarzuela', 'better', 'better', 'cheap', 'highly satisfying', \"completely drawn to it because it sounds like i 'll order a bunch of things and still not get full\", 'full', 'wrong .', 'afraid of not getting full', 'full', 'awesome .', 'kinda bitter', 'awesome', 'pricey', 'so good', 'good with bacon', 'awesome', 'la', 'very tasty', 'bite sized', 'too expensive', 'so painfully unrelated to spanish food', 'so painfully unrelated', 'gut busting', 'very good', 'the bacon - wrapped', 'favorite , light and not cloyingly sweet', 'favorite', 'light', 'not cloyingly sweet', 'right', 'somewhat low', 'freakin good', 'strong', 'cheap', 'very few', 'lower and higher', 'quite large for tapas', 'totally overpriced', 'nice', 'as good as this', 'spicy', 'just ok', 'outstanding', 'really friendly and attentive without being pushy or annoying', 'pushy or annoying', 'spicy', 'spicy', 'cold', 'wrong with goat cheese , tomato sauce , and bread', 'way too overpowering', 'casual and fun', 'darkly - lite', 'very modern', 'afraid of the mushroom empanadas they were amazing', 'amazing', 'quite appetizing', 'enough', 'good', 'not so much', 'phenomenal', 'scrumptious', 'divine', 'wonderful', 'so affordable', 'hungry', 'spicy', 'white', 'perfect', 'sure', 'great', 'great', 'good', 'fun to order a selection of tapas to share & pass', 'sure to also leave room to try the paella , which is very tasty', 'very tasty', 'worth', 'pleasantly surprised', 'reasonably priced', 'really nice', 'extremely delicious', 'wonderful too', 'simple and done', 'oblong shaped and really pretty', 'oblong shaped', 'really pretty', 'thin and crispy', 'most excited about the chicken paella', 'perfect', 'really nice', 'high - priced', 'huge - portions of most vegas restaurants , cafe ba - ba - reeba was a little place that we found one', 'happy', 'half - priced', 'great - we started with half a pitcher', 'great - we started', 'very full', 'pretty good', 'a little sick', 'much else to type anything more', 'so reasonable', 'fantastically memorable', 'very good', 'new enjoyable', 'incredibly helpful', 'bad', 'so many', 'somewhat obnoxious', 'really pushy', 'underwhelming', 'bigger sized', 'sorry', 'ashamed of yourself charging that much for rice', 'better than other tapas places', 'better', \"sure that we 'll be back any time soon\", 'really good', 'superb , much better than at the chicago location', 'superb', 'much better', 'so good', 'seemingly odd', 'less expensive but very enjoyable', 'less expensive', 'very enjoyable', 'delightfully drunken', 'excited to know that we were gon na have a tapas place', 'bad', 'cold and hot', 'bad', 'pretty salty', 'clear', 'otherwise delicious', 'great', 'pretty cool', 'very good', 'a little crowded', 'extremely disappointed by this tapas bar', 'good', 'sure', 'pass', 'perfect .', 'perfect .', 'delectible', 'awesome happy', 'sweet , fruity and very refreshing', 'sweet', 'fruity', 'very refreshing', 'lighter and fresher', 'close', 'good', 'good - but very heavy', 'good', 'very heavy', 'really delicious', 'alright by me', 'pretty good', 'pretty good', 'enough to make me go back', 'bad', 'good enough for me to want again', 'pleasant', 'very nice', 'people - watching', 'okay', 'okay', 'quite salty', 'not so sure', 'open in chicago', 'least expensive', 'picky about tapas', 'most happy', 'good', 'very dark', \"sure it 's more for ambiance\", 'more for ambiance', 'more', 'outstanding', 'great', 'really good', 'good but not extraordinary', 'good', 'so sad because 4 years ago i ate at babareeba in chicago and had such an amazing experience .', 'lively', 'great food , and very knowledgeable', 'great food', 'very knowledgeable', 'good enough', 'somewhat high', 'decent', 'really tanked', 'friendly , helpful', 'better', 'fine', 'good', 'exceedingly long', 'clear', 'decent', 'so chaotic', 'palpable', 'hard to get past worrying that by the time you get home', 'crazy for their white sangria .', 'great and really enough to share', 'great and really enough', 'great', 'really enough', 'tasty', 'fantastic !', 'surprisingly great', 'tasty', 'great', 'superb', 'great too', 'pretty tasteless and disappointing', 'not shocked', 'horrible', 'great', 'other than that', 'so average', 'outstanding', 'fabulous', 'very attentive .', 'well - worth it because it was one of the best meals i have had in a long time', 'well - worth it', 'well - worth', 'honest', 'pretty expensive', 'delicious', 'very refreshing , but not sure it was worth', 'very refreshing', 'sure it was worth', 'worth', 'delicious', 'thin and crispy', 'pretty huge', 'disgusting .', 'that great', 'delicious', 'very good', 'spicy', 'huge', 'delicious', 'extremely reasonable by vegas standards', 'huge - great for people watching', 'huge - great', 'a little sad', 'most perfect', 'spicy', 'now much more efficient', 'baked in tomato', 'ready to quit', 'nominally short of the requirement', 'awesome about this place', 'nice', 'sure', 'very good', 'bigger', 'very good', 'decent', 'so many', 'decent', 'spectacular', 'great', 'better than the peach sangria', 'better', 'sweet', 'really nice', 'yummy were mixed right', 'very moist', 'excellent', 'flaky', 'small', 'super busy', 'much better if he had a hand', 'much better', 'toasty warm throughout our meal', 'toasty warm', 'excellent', 'low on sangria', 'ready', 'quite good', 'very picky', 'great', 'reasonably priced', 'more fruity and sweet', 'more red', 'good , crispy', 'possible for me', 'memorable', 'delicious', 'ok', 'not easy', 'spicy', 'mushroom empanada , bacon - wrapped', 'good', 'tasty', 'good', 'too nasty', 'okay for drinks and tapas', 'cheap happy', 'other than the fact that the restaurant has awesome , affordable specials', 'spectacular about this place', 'alright', 'a little stuffy for a tapas place', 'ridiculously dark', 'impatient and not friendly', 'impatient', 'not friendly', 'only a quarter full', 'sure', 'so rushed', 'good for a hot vegas afternoon .', 'pretty good', 'hot the tomatoes were halved cherry tomatoes , rather than diced', 'coconut cake soaked in a rum', 'sure .', 'full even before the paella arrived', 'so good', 'so many', 'dissapointing', 'bland', 'so bad', 'hot and funny', 'strong and stiff ... . and the food was great ...', 'strong and stiff', 'great', 'amazing', 'so disappointing !', 'different', 'pretty spotty', 'so meh', 'too nauseas -LRB- pregnancy related -RRB- to enjoy the food', 'too nauseas -LRB- pregnancy related -RRB-', 'too nauseas', 'pregnancy related', 'very bustling with family and kids', 'more romantic and sexy', 'dark red and black with quiet groovy like music in background', 'dark red', 'black with quiet groovy like music in background', 'quiet groovy like music in background', 'quiet groovy', 'best , i think , if you want to just sit and learn more about each other over cocktails', 'best', 'ok', 'expensive', 'chummy with some local guys', 'different', 'expensive', 'spicy', 'pointless for me', 'ok but too wet', 'more crispy', 'really good', 'full', 'not all', 'spectacular', 'ok to dress casual or dressy .', 'casual or dressy', 'much better for family', 'much better', \"great specially if you 're wondering the fashion show mall\", 'kind of stupid', 'smaller', 'very limited and simple', 'expensive', 'tasty', 'they tasty', 'absolutely delicious', 'pretty good', 'good', 'relatively cheap', 'really close', 'quick', 'great for a lunch meal', 'very good', 'reasonably priced', 'delicious', 'very cool', 'very nice and private', 'overcooked and chewy', 'visually unappealing', 'accurate', 'pretty tasty', 'good baked', 'delicious', 'pretty good', 'good', 'able to sit outside in the middle of february', 'not bad', 'true', 'sure you order enough quantity for your table', 'good', 'perfect', 'eager to find out if the vegas location lived up to the hype', 'fabulous', 'much stronger', 'nice', 'awesome', 'particular', 'huge', 'about right on', 'expensive', 'overcooked and chewy', 'visually unappealing', 'pretty good', 'surprised at how good the food was', 'good', 'really good', 'piping hot', 'really good', 'delicious', 'absolutely delicious', 'spicy', 'so good', 'remarkably tasty', \"very like the kind i 'd had in mexico\", 'pretty good', 'lazy sunday', 'happy to just sit and chat without being rushed', 'pricey', 'delicious', 'great', 'alright', 'as good', 'really tender', 'too much', 'very tasty', 'nice and light', 'perfect for 2', 'good', 'slow at times', 'good', 'perfect for a light lunch .', 'great', 'over-priced', 'most important', 'good', 'fresh', 'soo juicy', 'well worth the money because of the quality of the food and service .']]\n"
     ]
    }
   ],
   "metadata": {}
  },
  {
   "cell_type": "code",
   "execution_count": null,
   "source": [
    "#store adjective phrases of all businesses except the business_b1\n",
    "business_adjps=[['right in front of u', 'amazing', 'sure to try a steak', 'worth', 'a little hesitant due to the pricing', 'Very nice', 'a nice extra but honestly completely unnecessary', 'a nice extra', 'completely unnecessary', 'very small and close to the restaurant', 'very small and close', 'good', 'very good', 'impeccable to everyone that walks through the door', 'hard to find in the latter half of my meal', 'polite', 'honest the keg does these dishes much much better and for less', 'much much better', 'less', 'good', 'nice and very garlicky', 'nice', 'very garlicky', 'excellent', 'delicious', 'a bit dry', 'so many', 'really good', 'worth an experience', 'very nice', 'justified', 'very nice', 'very nice', 'consistently good', 'really good', 'really good', 'awesome', 'really good in general', 'general', 'crisp', 'unusual', 'very great to munch on', 'bland', 'way more flavourful', 'very average', 'fully coated', 'more special', 'very good', 'medium rare just how i asked and the meat is soft , definitely not chewy', 'medium rare', 'soft', 'professional but not warm and welcoming', 'professional', 'warm and welcoming', 'able', 'really empathetic', 'really big for both of us', 'cheap', 'thankfully - because the place', 'thankfully'],\n",
    "               ['really good','really good','superb food','too good','really brilliant'],\n",
    "            ]\n",
    "\n",
    "#store adjective phrases of business b1 for which we want to find indicative adjective phrases\n",
    "business_b1=['good', 'bland', 'really flavourable', 'Even alone .', 'attentive , nice and considerate', 'way bigger', 'higher', 'better', 'interested', 'polite', 'so disappointed', 'a bit ridiculous that if one of us wanted to order the veggies , we all had to order it as well', 'subpar', 'dry and wilted', 'funny', 'overly seasoned', 'pretty bad', 'White', 'spicy', 'spicy and normal', 'too bad', 'very attentive', 'quick and courteous', 'Really bad', 'cold', 'Terrible', 'confusing', 'pretty pleased', 'ready', 'good', 'personable at all', 'super long and light', 'Unfortunate', 'great', ', eerily similar to that of the bowls they typically', 'Big', 'huge', 'quite good', 'bad enough to then be followed by finding a piece of ceramic in my food', 'well enough', 'worth', 'very small', 'quick', 'good', 'hard to come by', 'good', 'good', 'very poor', 'not sure what the lower level is for', 'super crowded', 'warm', 'surprised at how empty the store was for a Friday night', 'nice', 'decent', 'tiny', 'nice to have', 'too many', 'okay', 'as much', 'too bad', 'pretty prompt about it', 'decent for what you get', \"too bad they do n't include dessert like their competitor\", \"more than I should 've paid until after I left\", 'more', 'pretty stuffy and hot in there - bad ventilation - so', 'pretty stuffy and hot', 'there - bad', 'worst Korean', 'able to cook any of our food which just arrived', 'aged', 'Alot cheaper than chako .', 'Alot cheaper', 'bad', 'very disappointed since I was hoping to get korean food and got', 'very disappointed', 'pretty good and very well - priced -LRB- $ 9.99 for an all you can eat lunch -RRB-', 'pretty good', 'very well - priced', 'pretty unprofessional', 'definitely good for the price', 'available on weekends', 'worth', 'really Korean', 'serious', 'much larger', 'quite good', 'fresh , and very fatty', 'fresh', 'very fatty', 'so much', 'authentic', 'slow', 'small', 'slow and not that good', 'slow', 'not that good', 'pleasant for the most part from all other helpers', 'amazing', 'weak', 'worth', 'overbearing', 'able to upgrade this']\n",
    "business_b1_dict=dict(Counter(business_b1))\n",
    "business_adjps_list=[]\n",
    "for x in business_adjps:\n",
    "    business_adjps_list+=x\n",
    "business_adjps_dict=dict(Counter(business_adjps_list))\n",
    "\n",
    "\n",
    "for key in business_b1_dict:\n",
    "    val1=business_b1_dict[key]\n",
    "    if key in business_adjps_dict.keys():\n",
    "        val2=business_adjps_dict[key]\n",
    "    else:\n",
    "        val2=0\n",
    "    if key=='really good':\n",
    "        print(val1, val2)\n",
    "    business_b1_dict[key]=val1-val2\n",
    "    \n",
    "print(Counter(business_b1_dict).most_common(3))"
   ],
   "outputs": [],
   "metadata": {}
  },
  {
   "cell_type": "code",
   "execution_count": null,
   "source": [
    "business_b1_counter=Counter(business_b1)\n",
    "business_b1_dict=dict(business_b1_counter)\n",
    "business_b1_len=sum(business_b1_counter.values())\n",
    "\n",
    "business_adjps_list=[]\n",
    "for x in business_adjps:\n",
    "    business_adjps_list+=x\n",
    "business_adjps_counter=Counter(business_adjps_list)\n",
    "business_adjps_len=sum(business_adjps_counter.values())\n",
    "business_adjps_dict=dict(business_adjps_counter)\n",
    "\n",
    "adjp_phrase=[]\n",
    "freq_in_b1=[]\n",
    "freq_overall=[]\n",
    "for key in business_b1_dict.keys():\n",
    "    adjp_phrase.append(key)\n",
    "    freq_in_b1.append(business_b1_dict[key]/business_b1_len)\n",
    "    if key in business_adjps_dict.keys():\n",
    "        freq_overall.append(business_adjps_dict[key]/business_adjps_len)\n",
    "    else:\n",
    "        freq_overall.append(0)\n",
    "\n",
    "relative_entropies=sc.special.rel_entr(freq_in_b1,freq_overall)\n",
    "print(relative_entropies)\n",
    "indicative_adjective_phrases = [x for _,x in sorted(zip(relative_entropies,adjp_phrase),reverse=True)]\n",
    "print(indicative_adjective_phrases)\n"
   ],
   "outputs": [],
   "metadata": {}
  },
  {
   "cell_type": "code",
   "execution_count": null,
   "source": [],
   "outputs": [],
   "metadata": {}
  }
 ],
 "metadata": {
  "kernelspec": {
   "display_name": "Python 3",
   "language": "python",
   "name": "python3"
  },
  "language_info": {
   "codemirror_mode": {
    "name": "ipython",
    "version": 3
   },
   "file_extension": ".py",
   "mimetype": "text/x-python",
   "name": "python",
   "nbconvert_exporter": "python",
   "pygments_lexer": "ipython3",
   "version": "3.7.4"
  }
 },
 "nbformat": 4,
 "nbformat_minor": 4
}